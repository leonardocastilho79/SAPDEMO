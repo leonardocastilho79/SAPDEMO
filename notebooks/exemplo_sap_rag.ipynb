{
 "cells": [
  {
   "cell_type": "markdown",
   "metadata": {},
   "source": [
    "# SAP RAG System - Exemplo de Uso\n",
    "\n",
    "Este notebook demonstra como usar o sistema RAG para consultar documentos SAP.\n",
    "\n",
    "## Índice\n",
    "1. Configuração Inicial\n",
    "2. Processamento de Documentos\n",
    "3. Indexação\n",
    "4. Consultas e Perguntas\n",
    "5. Análise de Resultados"
   ]
  },
  {
   "cell_type": "markdown",
   "metadata": {},
   "source": [
    "## 1. Configuração Inicial\n",
    "\n",
    "Importar as bibliotecas necessárias e configurar o ambiente."
   ]
  },
  {
   "cell_type": "code",
   "execution_count": null,
   "metadata": {},
   "outputs": [],
   "source": [
    "import sys\n",
    "from pathlib import Path\n",
    "\n",
    "# Adicionar o diretório raiz ao path\n",
    "root_dir = Path.cwd().parent\n",
    "sys.path.insert(0, str(root_dir))\n",
    "\n",
    "import logging\n",
    "logging.basicConfig(level=logging.INFO)\n",
    "\n",
    "print(f\"Diretório raiz: {root_dir}\")"
   ]
  },
  {
   "cell_type": "code",
   "execution_count": null,
   "metadata": {},
   "outputs": [],
   "source": [
    "# Importar módulos do sistema RAG\n",
    "from src.rag_engine import SAPRAGSystem\n",
    "from src.document_processor import DocumentProcessor\n",
    "from src.embeddings import EmbeddingsGenerator\n",
    "\n",
    "print(\"Módulos importados com sucesso!\")"
   ]
  },
  {
   "cell_type": "markdown",
   "metadata": {},
   "source": [
    "## 2. Inicializar o Sistema RAG\n",
    "\n",
    "Vamos criar uma instância do sistema RAG com ChromaDB."
   ]
  },
  {
   "cell_type": "code",
   "execution_count": null,
   "metadata": {},
   "outputs": [],
   "source": [
    "# Inicializar o sistema RAG\n",
    "rag_system = SAPRAGSystem(\n",
    "    vector_store_type=\"chroma\",\n",
    "    chunk_size=1000,\n",
    "    chunk_overlap=200\n",
    ")\n",
    "\n",
    "print(\"Sistema RAG inicializado!\")\n",
    "print(\"\\nEstatísticas do sistema:\")\n",
    "stats = rag_system.get_system_stats()\n",
    "print(stats)"
   ]
  },
  {
   "cell_type": "markdown",
   "metadata": {},
   "source": [
    "## 3. Processar e Indexar Documentos\n",
    "\n",
    "Vamos processar os documentos SAP do diretório raiz."
   ]
  },
  {
   "cell_type": "code",
   "execution_count": null,
   "metadata": {},
   "outputs": [],
   "source": [
    "# Diretório com documentos (no diretório raiz do projeto)\n",
    "documents_path = str(root_dir)\n",
    "\n",
    "print(f\"Processando documentos de: {documents_path}\")\n",
    "print(\"Isso pode levar alguns minutos...\\n\")\n",
    "\n",
    "# Processar e indexar documentos\n",
    "result = rag_system.ingest_documents(documents_path)\n",
    "\n",
    "if result['status'] == 'success':\n",
    "    stats = result['stats']\n",
    "    print(\"\\n\" + \"=\"*60)\n",
    "    print(\"DOCUMENTOS INDEXADOS COM SUCESSO!\")\n",
    "    print(\"=\"*60)\n",
    "    print(f\"Total de chunks: {stats['total_chunks']}\")\n",
    "    print(f\"Total de caracteres: {stats['total_characters']}\")\n",
    "    print(f\"Tamanho médio do chunk: {stats['avg_chunk_size']}\")\n",
    "    print(f\"Documentos processados: {stats['unique_sources']}\")\n",
    "    print(\"\\nFontes:\")\n",
    "    for source in stats['sources']:\n",
    "        print(f\"  - {Path(source).name}\")\n",
    "else:\n",
    "    print(f\"Erro: {result.get('message')}\")"
   ]
  },
  {
   "cell_type": "markdown",
   "metadata": {},
   "source": [
    "## 4. Fazer Perguntas sobre os Documentos\n",
    "\n",
    "Agora podemos fazer perguntas em linguagem natural sobre os documentos SAP."
   ]
  },
  {
   "cell_type": "markdown",
   "metadata": {},
   "source": [
    "### Pergunta 1: O que é SAP S/4HANA?"
   ]
  },
  {
   "cell_type": "code",
   "execution_count": null,
   "metadata": {},
   "outputs": [],
   "source": [
    "question = \"O que é SAP S/4HANA?\"\n",
    "\n",
    "result = rag_system.answer_question(question, top_k=3)\n",
    "\n",
    "print(\"=\"*60)\n",
    "print(f\"PERGUNTA: {question}\")\n",
    "print(\"=\"*60)\n",
    "print(\"\\nRESPOSTA:\")\n",
    "print(\"-\"*60)\n",
    "print(result['answer'])\n",
    "print(\"\\n\" + \"=\"*60)"
   ]
  },
  {
   "cell_type": "markdown",
   "metadata": {},
   "source": [
    "### Pergunta 2: Principais módulos do SAP"
   ]
  },
  {
   "cell_type": "code",
   "execution_count": null,
   "metadata": {},
   "outputs": [],
   "source": [
    "question = \"Quais são os principais módulos do SAP?\"\n",
    "\n",
    "result = rag_system.answer_question(question, top_k=3)\n",
    "\n",
    "print(\"=\"*60)\n",
    "print(f\"PERGUNTA: {question}\")\n",
    "print(\"=\"*60)\n",
    "print(\"\\nRESPOSTA:\")\n",
    "print(\"-\"*60)\n",
    "print(result['answer'])\n",
    "print(\"\\n\" + \"=\"*60)"
   ]
  },
  {
   "cell_type": "markdown",
   "metadata": {},
   "source": [
    "### Pergunta 3: FIORI"
   ]
  },
  {
   "cell_type": "code",
   "execution_count": null,
   "metadata": {},
   "outputs": [],
   "source": [
    "question = \"O que é SAP FIORI?\"\n",
    "\n",
    "result = rag_system.answer_question(question, top_k=3)\n",
    "\n",
    "print(\"=\"*60)\n",
    "print(f\"PERGUNTA: {question}\")\n",
    "print(\"=\"*60)\n",
    "print(\"\\nRESPOSTA:\")\n",
    "print(\"-\"*60)\n",
    "print(result['answer'])\n",
    "print(\"\\n\" + \"=\"*60)"
   ]
  },
  {
   "cell_type": "markdown",
   "metadata": {},
   "source": [
    "## 5. Análise Detalhada dos Resultados\n",
    "\n",
    "Vamos analisar em detalhes os resultados de uma consulta."
   ]
  },
  {
   "cell_type": "code",
   "execution_count": null,
   "metadata": {},
   "outputs": [],
   "source": [
    "question = \"Como funciona a integração no SAP?\"\n",
    "\n",
    "result = rag_system.answer_question(question, top_k=5)\n",
    "\n",
    "print(\"PERGUNTA:\")\n",
    "print(question)\n",
    "print(\"\\n\" + \"=\"*80)\n",
    "print(\"ANÁLISE DETALHADA DAS FONTES\")\n",
    "print(\"=\"*80)\n",
    "\n",
    "for i, source in enumerate(result['sources'], 1):\n",
    "    print(f\"\\nFonte {i}:\")\n",
    "    print(\"-\"*80)\n",
    "    print(f\"Arquivo: {source['metadata']['filename']}\")\n",
    "    print(f\"Relevância: {source.get('score', 0):.2%}\")\n",
    "    print(f\"Chunk: {source['metadata'].get('chunk_index', 'N/A')} de {source['metadata'].get('total_chunks', 'N/A')}\")\n",
    "    print(f\"\\nConteúdo:\")\n",
    "    print(source['text'][:500] + \"...\" if len(source['text']) > 500 else source['text'])\n",
    "    print(\"-\"*80)"
   ]
  },
  {
   "cell_type": "markdown",
   "metadata": {},
   "source": [
    "## 6. Consulta com Contexto Customizado\n",
    "\n",
    "Usando a API de baixo nível para obter apenas o contexto relevante."
   ]
  },
  {
   "cell_type": "code",
   "execution_count": null,
   "metadata": {},
   "outputs": [],
   "source": [
    "question = \"Explique tabelas transparentes\"\n",
    "\n",
    "# Usar método query para obter apenas o contexto\n",
    "query_result = rag_system.query(question, top_k=3)\n",
    "\n",
    "print(\"PERGUNTA:\", question)\n",
    "print(\"\\n\" + \"=\"*80)\n",
    "print(\"CONTEXTO RECUPERADO\")\n",
    "print(\"=\"*80)\n",
    "print(query_result['context'])\n",
    "print(\"\\n\" + \"=\"*80)\n",
    "print(f\"Número de fontes consultadas: {query_result['num_sources']}\")"
   ]
  },
  {
   "cell_type": "markdown",
   "metadata": {},
   "source": [
    "## 7. Teste de Similaridade\n",
    "\n",
    "Testar a similaridade entre textos usando o gerador de embeddings."
   ]
  },
  {
   "cell_type": "code",
   "execution_count": null,
   "metadata": {},
   "outputs": [],
   "source": [
    "# Acessar o gerador de embeddings\n",
    "embeddings_gen = rag_system.embeddings_generator\n",
    "\n",
    "# Testar similaridade\n",
    "text1 = \"SAP S/4HANA é um sistema ERP\"\n",
    "text2 = \"S/4HANA é uma plataforma empresarial da SAP\"\n",
    "text3 = \"Gosto de pizza\"\n",
    "\n",
    "sim_12 = embeddings_gen.compute_similarity(text1, text2)\n",
    "sim_13 = embeddings_gen.compute_similarity(text1, text3)\n",
    "\n",
    "print(\"Teste de Similaridade:\\n\")\n",
    "print(f\"Texto 1: '{text1}'\")\n",
    "print(f\"Texto 2: '{text2}'\")\n",
    "print(f\"Texto 3: '{text3}'\")\n",
    "print(\"\\nResultados:\")\n",
    "print(f\"Similaridade(1, 2): {sim_12:.2%} (textos relacionados)\")\n",
    "print(f\"Similaridade(1, 3): {sim_13:.2%} (textos não relacionados)\")"
   ]
  },
  {
   "cell_type": "markdown",
   "metadata": {},
   "source": [
    "## 8. Estatísticas Finais do Sistema"
   ]
  },
  {
   "cell_type": "code",
   "execution_count": null,
   "metadata": {},
   "outputs": [],
   "source": [
    "import json\n",
    "\n",
    "stats = rag_system.get_system_stats()\n",
    "\n",
    "print(\"ESTATÍSTICAS DO SISTEMA RAG\")\n",
    "print(\"=\"*80)\n",
    "print(json.dumps(stats, indent=2, ensure_ascii=False))"
   ]
  },
  {
   "cell_type": "markdown",
   "metadata": {},
   "source": [
    "## Conclusão\n",
    "\n",
    "Este notebook demonstrou como:\n",
    "\n",
    "1. Inicializar o sistema RAG\n",
    "2. Processar e indexar documentos SAP\n",
    "3. Fazer perguntas em linguagem natural\n",
    "4. Analisar resultados e fontes\n",
    "5. Usar recursos avançados do sistema\n",
    "\n",
    "### Próximos Passos\n",
    "\n",
    "- Experimentar com diferentes tamanhos de chunk\n",
    "- Testar diferentes modelos de embeddings\n",
    "- Integrar com LLMs para respostas mais elaboradas\n",
    "- Criar uma interface web com Gradio ou Streamlit"
   ]
  }
 ],
 "metadata": {
  "kernelspec": {
   "display_name": "Python 3",
   "language": "python",
   "name": "python3"
  },
  "language_info": {
   "codemirror_mode": {
    "name": "ipython",
    "version": 3
   },
   "file_extension": ".py",
   "mimetype": "text/x-python",
   "name": "python",
   "nbconvert_exporter": "python",
   "pygments_lexer": "ipython3",
   "version": "3.9.0"
  }
 },
 "nbformat": 4,
 "nbformat_minor": 4
}
